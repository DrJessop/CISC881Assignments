{
 "cells": [
  {
   "cell_type": "code",
   "execution_count": 38,
   "metadata": {},
   "outputs": [
    {
     "data": {
      "text/html": [
       "<style>.container { width:90% !important; }</style>"
      ],
      "text/plain": [
       "<IPython.core.display.HTML object>"
      ]
     },
     "metadata": {},
     "output_type": "display_data"
    },
    {
     "name": "stdout",
     "output_type": "stream",
     "text": [
      "Pretty printing has been turned ON\n"
     ]
    }
   ],
   "source": [
    "import os,sys\n",
    "import numpy as np\n",
    "import matplotlib.pyplot as plt\n",
    "from mpl_toolkits.axes_grid1 import make_axes_locatable\n",
    "from ipywidgets import interact, interactive, fixed, interact_manual\n",
    "import ipywidgets as widgets\n",
    "plt.style.use('seaborn-poster')\n",
    "import matplotlib.pyplot as plt\n",
    "import numpy as np\n",
    "import pandas as pd\n",
    "import ast\n",
    "from collections import OrderedDict\n",
    "from IPython.core.display import display, HTML\n",
    "import SimpleITK as sitk\n",
    "display(HTML(\"<style>.container { width:90% !important; }</style>\"))\n",
    "%pprint"
   ]
  },
  {
   "cell_type": "code",
   "execution_count": 54,
   "metadata": {},
   "outputs": [],
   "source": [
    "t2_img_dir = \"/home/andrewg/PycharmProjects/assignments/resampled_cropped/train/t2/{}_{}.nrrd\"\n",
    "adc_img_dir = \"/home/andrewg/PycharmProjects/assignments/resampled_cropped/train/adc/{}_{}.nrrd\"\n",
    "bval_img_dir = \"/home/andrewg/PycharmProjects/assignments/resampled_cropped/train/bval/{}_{}.nrrd\""
   ]
  },
  {
   "cell_type": "code",
   "execution_count": 72,
   "metadata": {},
   "outputs": [],
   "source": [
    "def show_crops_side_by_side(image_number, crop_depth):\n",
    "    fig = plt.figure()\n",
    "    gs = fig.add_gridspec(1, 3)\n",
    "    ax1 = fig.add_subplot(gs[0])\n",
    "    print(\"The image number is {}\".format(image_number))\n",
    "    try:\n",
    "        t2 = sitk.ReadImage(t2_img_dir.format(image_number, 0))\n",
    "        adc = sitk.ReadImage(adc_img_dir.format(image_number, 0))\n",
    "        bval = sitk.ReadImage(bval_img_dir.format(image_number, 0))\n",
    "    except:\n",
    "        t2 = sitk.ReadImage(t2_img_dir.format(image_number, 1))\n",
    "        adc = sitk.ReadImage(adc_img_dir.format(image_number, 1))\n",
    "        bval = sitk.ReadImage(bval_img_dir.format(image_number, 1))\n",
    "    print(t2.GetSpacing())\n",
    "    print(adc.GetSpacing())\n",
    "    print(bval.GetSpacing())\n",
    "    t2_arr = sitk.GetArrayFromImage(t2)[crop_depth]\n",
    "    ax2 = fig.add_subplot(gs[1])\n",
    "    adc_arr = sitk.GetArrayFromImage(adc)[crop_depth]\n",
    "    # spans two rows:\n",
    "    ax3 = fig.add_subplot(gs[2:])\n",
    "    bval_arr = sitk.GetArrayFromImage(bval)[crop_depth]\n",
    "    plt.subplots_adjust(left=None, bottom=None, right=5, top=2.5, wspace=0.3, hspace=None)\n",
    "    ax1.imshow(t2_arr, cmap=\"gray\"); ax2.imshow(adc_arr, cmap=\"gray\"); ax3.imshow(bval_arr, cmap=\"gray\")\n",
    "    # fig.colorbar(t2_arr, cax=ax1)\n",
    "    # fig.colorbar(adc_arr, cax=ax2)\n",
    "    # fig.colorbar(bval_arr, cax=ax3)\n",
    "    plt.show()"
   ]
  },
  {
   "cell_type": "code",
   "execution_count": 73,
   "metadata": {},
   "outputs": [
    {
     "data": {
      "application/vnd.jupyter.widget-view+json": {
       "model_id": "012c70f7d2444f328557f3769c2dfe21",
       "version_major": 2,
       "version_minor": 0
      },
      "text/plain": [
       "interactive(children=(IntSlider(value=3249, description='image_number', max=6499), IntSlider(value=1, descript…"
      ]
     },
     "metadata": {},
     "output_type": "display_data"
    },
    {
     "data": {
      "text/plain": [
       "<function __main__.show_crops_side_by_side(image_number, crop_depth)>"
      ]
     },
     "execution_count": 73,
     "metadata": {},
     "output_type": "execute_result"
    }
   ],
   "source": [
    "interact(show_crops_side_by_side, image_number=(0,6499), crop_depth=(0,2))"
   ]
  }
 ],
 "metadata": {
  "kernelspec": {
   "display_name": "Python 3",
   "language": "python",
   "name": "python3"
  },
  "language_info": {
   "codemirror_mode": {
    "name": "ipython",
    "version": 3
   },
   "file_extension": ".py",
   "mimetype": "text/x-python",
   "name": "python",
   "nbconvert_exporter": "python",
   "pygments_lexer": "ipython3",
   "version": "3.6.7"
  }
 },
 "nbformat": 4,
 "nbformat_minor": 2
}
